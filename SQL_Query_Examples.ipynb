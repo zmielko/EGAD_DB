{
 "cells": [
  {
   "cell_type": "markdown",
   "metadata": {},
   "source": [
    "## Demo queries\n",
    "\n",
    "This notebook has example queries for RNA-seq and ATAC-seq data. It incorperates integration with meta data (currently limited to GO terms but will expand soon).\n",
    "\n",
    "Dependencies:\n",
    "* psycopg2\n",
    "* pgspecial\n",
    "* ipython-sql\n",
    "* bokeh\n",
    "\n",
    "You will need credentials.py in the same directory as the ipynb file to load the credentials for logging in.\n"
   ]
  },
  {
   "cell_type": "code",
   "execution_count": null,
   "metadata": {},
   "outputs": [],
   "source": [
    "from credentials import username, password, hostname, dbname\n",
    "connection_info = f\"postgresql://{username}:{password}@{hostname}/{dbname}\"\n",
    "%load_ext sql\n",
    "%sql $connection_info"
   ]
  },
  {
   "cell_type": "code",
   "execution_count": null,
   "metadata": {},
   "outputs": [],
   "source": [
    "import pandas as pd\n",
    "from bokeh.io import output_notebook\n",
    "from bokeh.plotting import figure, output_file, show, ColumnDataSource,save\n",
    "from bokeh.models import HoverTool,LabelSet, Label,CDSView, BooleanFilter \n",
    "from bokeh.palettes import Category10\n",
    "from bokeh.layouts import column, row\n",
    "output_notebook()"
   ]
  },
  {
   "cell_type": "markdown",
   "metadata": {},
   "source": [
    "### Query 1, text search for gene name and plot timecourse\n",
    "\n",
    "Given a text-search for a gene name (can find multiple genes), give the average expression from replicate groups in the **Israel** et al. dataset. Download the data as a csv file and make interactive plots of the average gene experession aong replicates among the three species per gene found in the text search"
   ]
  },
  {
   "cell_type": "code",
   "execution_count": null,
   "metadata": {},
   "outputs": [],
   "source": [
    "# SQL parameters\n",
    "gene_name_search = 'Myc'\n",
    "\n",
    "# Save and plot parameters\n",
    "save_location = '/Users/ZMielko/Desktop/EGAD_Test'"
   ]
  },
  {
   "cell_type": "markdown",
   "metadata": {},
   "source": [
    "### SQL Code"
   ]
  },
  {
   "cell_type": "code",
   "execution_count": null,
   "metadata": {},
   "outputs": [],
   "source": [
    "%%sql results << \n",
    "\n",
    "SELECT rm.species,rm.dev_stage, gi.name, ge.gene_id, AVG(ge.expression) as avg_gene_exp\n",
    "FROM rna_meta rm\n",
    "    INNER JOIN gene_expression ge ON ( rm.rna_id = ge.rna_id )\n",
    "        INNER JOIN gene_info gi ON ( ge.gene_id = gi.gene_id )\n",
    "WHERE  gi.name ~ :gene_name_search AND\n",
    "    rm.analyst = 'Israel et al.'\n",
    "GROUP BY rm.species,rm.dev_stage, gi.name,ge.gene_id"
   ]
  },
  {
   "cell_type": "markdown",
   "metadata": {},
   "source": [
    "### Save data and make interactive plots"
   ]
  },
  {
   "cell_type": "code",
   "execution_count": null,
   "metadata": {},
   "outputs": [],
   "source": [
    "### Run to save data and make interactive plots ###\n",
    "\n",
    "# Save data\n",
    "resultsdf = results.DataFrame()\n",
    "resultsdf.to_csv(f\"{save_location}/{gene_name_search}.csv\", index = False)\n",
    "\n",
    "\n",
    "### Make an interactive plot ###\n",
    "# Prepare data for interactive plot\n",
    "x_axis_conv = {\"egg\":1,\"4cell\":2,\"16cell\":3,\"32cell\":4,\"Blastula\":5,\"Gastrula\":6,\"Early_Larva\":7}\n",
    "resultsdf['dev_stage'] = resultsdf['dev_stage'].apply(lambda x: x_axis_conv[x])\n",
    "unique = resultsdf[['gene_id', 'name']].groupby(['gene_id', 'name']).size()\n",
    "unique = pd.DataFrame(unique).reset_index()\n",
    "gene_list = unique['gene_id']\n",
    "name_list = unique['name']\n",
    "by_gene = []\n",
    "for gene in gene_list:\n",
    "    each_gene = resultsdf.query(\"gene_id == @gene\")\n",
    "    each_gene = each_gene.sort_values(by=['species','dev_stage'])\n",
    "    each_gene = each_gene.reset_index(drop=True)\n",
    "    by_gene.append(each_gene)\n",
    "\n",
    "\n",
    "# Plot interactive options\n",
    "TOOLS= \"crosshair,pan,wheel_zoom,zoom_in,zoom_out,box_zoom,undo,redo,reset,tap,save,box_select,poly_select,lasso_select,\"\n",
    "hover = HoverTool(tooltips=[\n",
    "    (\"Gene Name\", \"@name\"),\n",
    "    (\"Gene ID\", \"@gene_id\"),\n",
    "    (\"Average Expression\", \"@avg_gene_exp\")\n",
    "])\n",
    "\n",
    "graphs = []\n",
    "for idx, gene in enumerate(by_gene):\n",
    "    # Get species and set plot source\n",
    "    species_list = list(set(gene['species']))\n",
    "    source = ColumnDataSource(data = gene)\n",
    "    views = []\n",
    "    for i in species_list:\n",
    "        views.append(CDSView(source=source, filters=[BooleanFilter([True if y == i else False for y in gene['species']])]))\n",
    "    # axis and dimensions information\n",
    "    Title = f\"{name_list[idx]}, {gene_list[idx]}\"\n",
    "    p = figure(plot_height=500, plot_width=800, tools=[TOOLS,hover],x_range=(0, 8), title = Title)\n",
    "    p.xaxis.axis_label = \"Developmental Stage\"\n",
    "    p.xaxis.ticker = [1,2,3,4,5,6,7]\n",
    "    p.xaxis.major_label_overrides = {1:\"egg\",2:\"4cell\",3:\"16cell\",4:\"32cell\",5:\"Blastula\",6:\"Gastrula\",7:\"Early_Larva\"}\n",
    "    # Draw lines\n",
    "    colors = Category10[len(views)]\n",
    "    for idx, view in enumerate(views):\n",
    "        p.line(x = 'dev_stage', y= 'avg_gene_exp', color = colors[idx], source=source, view=view,\n",
    "              legend = species_list[idx])\n",
    "    graphs.append(p)\n",
    "\n",
    "show(column(graphs))"
   ]
  },
  {
   "cell_type": "markdown",
   "metadata": {},
   "source": [
    "### Query 2, GO term search for gene expression data\n",
    "\n",
    "Given a text-search for a GO term (can find multiple genes), give the average expression from replicate groups in **every** stored dataset. Download the data as a csv file and make interactive plots of the expression among the three species per gene found in the text search"
   ]
  },
  {
   "cell_type": "code",
   "execution_count": null,
   "metadata": {},
   "outputs": [],
   "source": [
    "# Parameters\n",
    "\n",
    "GO_search = 'calcium'\n",
    "save_location = '/Users/ZMielko/Desktop/EGAD_Test'\n",
    "\n",
    "# Cannot save as Wide since the format of time vs developmental stage is different.\n",
    "# Would have to seperate by how development is delineated and save into seperate files"
   ]
  },
  {
   "cell_type": "markdown",
   "metadata": {},
   "source": [
    "### SQL Code"
   ]
  },
  {
   "cell_type": "code",
   "execution_count": null,
   "metadata": {},
   "outputs": [],
   "source": [
    "%%sql results << \n",
    "\n",
    "SELECT rm.analyst,rm.species,rm.dev_stage, gi.name, ge.gene_id, AVG(ge.expression) as avg_gene_exp\n",
    "FROM rna_meta rm\n",
    "    INNER JOIN gene_expression ge ON ( rm.rna_id = ge.rna_id )\n",
    "        INNER JOIN gene_info gi ON ( ge.gene_id = gi.gene_id )\n",
    "            INNER JOIN gene_ontology go ON (gi.gene_id = go.gene_id )\n",
    "WHERE  go.ot_data ~ :GO_search\n",
    "GROUP BY rm.analyst,rm.species,rm.dev_stage, gi.name,ge.gene_id"
   ]
  },
  {
   "cell_type": "markdown",
   "metadata": {},
   "source": [
    "### Save data "
   ]
  },
  {
   "cell_type": "code",
   "execution_count": null,
   "metadata": {},
   "outputs": [],
   "source": [
    "### Saving actual results ###\n",
    "resultsdf = results.DataFrame()\n",
    "resultsdf.to_csv(f\"{save_location}/{GO_search}.csv\", index = False)\n",
    "resultsdf\n"
   ]
  },
  {
   "cell_type": "markdown",
   "metadata": {},
   "source": [
    "### Query 3, RNA-seq and Atac-seq data\n",
    "\n",
    "Find out which genes are within X kb of atac-seq peaks in the blastula stage of S. purpuratus. Return the gene expression data from the Israel et al. dataset for those genes\n"
   ]
  },
  {
   "cell_type": "code",
   "execution_count": null,
   "metadata": {},
   "outputs": [],
   "source": [
    "# Parameters\n",
    "peak_distance = 5000\n",
    "save_location = '/Users/ZMielko/Desktop/EGAD_Test'"
   ]
  },
  {
   "cell_type": "markdown",
   "metadata": {},
   "source": [
    "### SQL Code"
   ]
  },
  {
   "cell_type": "code",
   "execution_count": null,
   "metadata": {},
   "outputs": [],
   "source": [
    "%%sql results <<\n",
    "\n",
    "/* Modify the SELECT and GROUP BY statement to return specific values */\n",
    "/* Ex, if you just want a list of genes, only have gi.gene_id in both */\n",
    "\n",
    "SELECT rm.species,rm.dev_stage, gi.gene_id, gi.name, ge.expression\n",
    "FROM rna_meta rm\n",
    "INNER JOIN gene_expression ge ON (rm.rna_id = ge.rna_id)\n",
    "    INNER JOIN gene_info gi ON (ge.gene_id = gi.gene_id)  \n",
    "        INNER JOIN gene_structure gs ON ( gi.gene_id = gs.gene_id  )  \n",
    "            INNER JOIN genome_structure gs1 ON ( gs.genome_structure_id = gs1.genome_structure_id  )  \n",
    "                INNER JOIN atac_data ad ON ( gs1.genome_structure_id = ad.genome_structure_id  )  \n",
    "                    INNER JOIN atac_meta am ON ( ad.atac_id = am.atac_id  ) \n",
    "WHERE am.dev_stage = 'Blastula' AND\n",
    "    am.description = 'Whole_embryo' AND\n",
    "    rm.analyst = 'Israel et al.' AND\n",
    "    CASE WHEN gs.strand = '+' THEN abs(lower(gs.gene_location) - lower(ad.peak_range)) <= :peak_distance OR  abs(lower(gs.gene_location) - upper(ad.peak_range)) <= :peak_distance \n",
    "         ELSE abs(upper(gs.gene_location) - lower(ad.peak_range)) <= :peak_distance  OR  abs(upper(gs.gene_location) - upper(ad.peak_range)) <= :peak_distance \n",
    "         END\n",
    "GROUP BY rm.species,rm.dev_stage, gi.gene_id, gi.name, ge.expression"
   ]
  },
  {
   "cell_type": "markdown",
   "metadata": {},
   "source": [
    "### Saving data"
   ]
  },
  {
   "cell_type": "code",
   "execution_count": null,
   "metadata": {},
   "outputs": [],
   "source": [
    "resultsdf = results.DataFrame()\n",
    "resultsdf.to_csv(f'{save_location}/Query3_{peak_distance}.csv', index = False) \n",
    "resultsdf"
   ]
  },
  {
   "cell_type": "markdown",
   "metadata": {},
   "source": [
    "### Query 4, differential peaks\n",
    "\n",
    "For a differential peak analysis, find all genes within X bases and get the GO terms for a specific category, count how may times they appear and order from most common to least common"
   ]
  },
  {
   "cell_type": "code",
   "execution_count": null,
   "metadata": {},
   "outputs": [],
   "source": [
    "peak_distance = 5000\n",
    "de_dataset = 'PMC_enriched' # other option at the moment is 'Non_PMC_enriched'"
   ]
  },
  {
   "cell_type": "code",
   "execution_count": null,
   "metadata": {},
   "outputs": [],
   "source": [
    "%%sql results <<\n",
    "\n",
    "\n",
    "SELECT go.ot_data as Terms, COUNT(*) AS Occurences\n",
    "FROM gene_info gi \n",
    "        INNER JOIN gene_ontology go ON (go.gene_id = gi.gene_id)\n",
    "        INNER JOIN gene_structure gs ON ( gi.gene_id = gs.gene_id  )  \n",
    "            INNER JOIN genome_structure gs1 ON ( gs.genome_structure_id = gs1.genome_structure_id  )  \n",
    "                INNER JOIN atac_differential_peaks adp ON ( gs1.genome_structure_id = adp.genome_structure_id  )  \n",
    "                    INNER JOIN atac_diff_meta adm ON ( adp.atac_diff_id = adm.atac_diff_id  ) \n",
    "WHERE adm.description = :de_dataset AND\n",
    "    CASE WHEN gs.strand = '+' THEN abs(lower(gs.gene_location) - lower(adp.peak_range)) <= :peak_distance OR  abs(lower(gs.gene_location) - upper(adp.peak_range)) <= :peak_distance \n",
    "         ELSE abs(upper(gs.gene_location) - lower(adp.peak_range)) <= :peak_distance  OR  abs(upper(gs.gene_location) - upper(adp.peak_range)) <= :peak_distance \n",
    "         END\n",
    "GROUP BY go.ot_data\n",
    "ORDER BY\n",
    "    Occurences DESC"
   ]
  },
  {
   "cell_type": "code",
   "execution_count": null,
   "metadata": {},
   "outputs": [],
   "source": [
    "resultsdf = results.DataFrame()\n",
    "resultsdf"
   ]
  },
  {
   "cell_type": "code",
   "execution_count": null,
   "metadata": {},
   "outputs": [],
   "source": []
  }
 ],
 "metadata": {
  "kernel_info": {
   "name": "python3"
  },
  "kernelspec": {
   "display_name": "Python 3",
   "language": "python",
   "name": "python3"
  },
  "language_info": {
   "codemirror_mode": {
    "name": "ipython",
    "version": 3
   },
   "file_extension": ".py",
   "mimetype": "text/x-python",
   "name": "python",
   "nbconvert_exporter": "python",
   "pygments_lexer": "ipython3",
   "version": "3.7.3"
  },
  "nteract": {
   "version": "0.15.0"
  }
 },
 "nbformat": 4,
 "nbformat_minor": 2
}
